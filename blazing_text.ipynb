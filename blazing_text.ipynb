{
 "cells": [
  {
   "cell_type": "code",
   "execution_count": 1,
   "id": "14bf6f77",
   "metadata": {},
   "outputs": [
    {
     "name": "stdout",
     "output_type": "stream",
     "text": [
      "sagemaker.config INFO - Not applying SDK defaults from location: /etc/xdg/sagemaker/config.yaml\n",
      "sagemaker.config INFO - Not applying SDK defaults from location: /home/ec2-user/.config/sagemaker/config.yaml\n",
      "arn:aws:iam::905418175678:role/service-role/AmazonSageMaker-ExecutionRole-20240501T190724\n",
      "sagemaker-us-east-1-905418175678\n"
     ]
    }
   ],
   "source": [
    "import sagemaker\n",
    "from sagemaker import get_execution_role\n",
    "import json\n",
    "import boto3\n",
    "\n",
    "sess = sagemaker.Session()\n",
    "\n",
    "role = get_execution_role()\n",
    "print(role) # This is the role that SageMaker would use to leverage AWS resources (S3, CloudWatch) on your behalf\n",
    "\n",
    "bucket = sess.default_bucket() # Replace with your own bucket name if needed\n",
    "print(bucket)\n",
    "prefix = 'blazingtext/supervised' #Replace with the prefix under which you want to store the data if needed"
   ]
  },
  {
   "cell_type": "markdown",
   "id": "c411a061",
   "metadata": {},
   "source": [
    "## Data Preparation\n",
    "\n",
    "Now we'll download a dataset from the web on which we want to train the text classification model. BlazingText expects a single preprocessed text file with space separated tokens and each line of the file should contain a single sentence and the corresponding label(s) prefixed by \" __ label __ \".\n",
    "\n",
    "In this example, let us train the text classification model on the [DBPedia Ontology Dataset](https://www.dbpedia.org/#2) as done by Zhang et al. The DBpedia ontology dataset is constructed by picking 14 nonoverlapping classes from DBpedia 2014. It has 560,000 training samples and 70,000 testing samples. The fields we used for this dataset contain title and abstract of each Wikipedia article."
   ]
  },
  {
   "cell_type": "code",
   "execution_count": 2,
   "id": "9d93595f",
   "metadata": {},
   "outputs": [
    {
     "name": "stdout",
     "output_type": "stream",
     "text": [
      "--2024-05-01 18:22:40--  https://github.com/saurabh3949/Text-Classification-Datasets/raw/master/dbpedia_csv.tar.gz\n",
      "Resolving github.com (github.com)... 140.82.114.3\n",
      "Connecting to github.com (github.com)|140.82.114.3|:443... connected.\n",
      "HTTP request sent, awaiting response... 302 Found\n",
      "Location: https://raw.githubusercontent.com/saurabh3949/Text-Classification-Datasets/master/dbpedia_csv.tar.gz [following]\n",
      "--2024-05-01 18:22:40--  https://raw.githubusercontent.com/saurabh3949/Text-Classification-Datasets/master/dbpedia_csv.tar.gz\n",
      "Resolving raw.githubusercontent.com (raw.githubusercontent.com)... 185.199.111.133, 185.199.108.133, 185.199.109.133, ...\n",
      "Connecting to raw.githubusercontent.com (raw.githubusercontent.com)|185.199.111.133|:443... connected.\n",
      "HTTP request sent, awaiting response... 200 OK\n",
      "Length: 68431223 (65M) [application/octet-stream]\n",
      "Saving to: ‘dbpedia_csv.tar.gz’\n",
      "\n",
      "100%[======================================>] 68,431,223   228MB/s   in 0.3s   \n",
      "\n",
      "2024-05-01 18:22:41 (228 MB/s) - ‘dbpedia_csv.tar.gz’ saved [68431223/68431223]\n",
      "\n"
     ]
    }
   ],
   "source": [
    "!wget https://github.com/saurabh3949/Text-Classification-Datasets/raw/master/dbpedia_csv.tar.gz"
   ]
  },
  {
   "cell_type": "code",
   "execution_count": 3,
   "id": "700b4c18",
   "metadata": {},
   "outputs": [
    {
     "name": "stdout",
     "output_type": "stream",
     "text": [
      "dbpedia_csv/\n",
      "dbpedia_csv/test.csv\n",
      "dbpedia_csv/classes.txt\n",
      "dbpedia_csv/train.csv\n",
      "dbpedia_csv/readme.txt\n"
     ]
    }
   ],
   "source": [
    "!tar -xzvf dbpedia_csv.tar.gz"
   ]
  },
  {
   "cell_type": "markdown",
   "id": "e5fb38c3",
   "metadata": {},
   "source": [
    "#### Let us inspect the dataset and the classes to get some understanding about how the data and the label is provided in the dataset."
   ]
  },
  {
   "cell_type": "code",
   "execution_count": 4,
   "id": "490cc4b6",
   "metadata": {},
   "outputs": [
    {
     "name": "stdout",
     "output_type": "stream",
     "text": [
      "1,\"E. D. Abbott Ltd\",\" Abbott of Farnham E D Abbott Limited was a British coachbuilding business based in Farnham Surrey trading under that name from 1929. A major part of their output was under sub-contract to motor vehicle manufacturers. Their business closed in 1972.\"\r\n",
      "1,\"Schwan-Stabilo\",\" Schwan-STABILO is a German maker of pens for writing colouring and cosmetics as well as markers and highlighters for office use. It is the world's largest manufacturer of highlighter pens Stabilo Boss.\"\r\n",
      "1,\"Q-workshop\",\" Q-workshop is a Polish company located in Poznań that specializes in designand production of polyhedral dice and dice accessories for use in various games (role-playing gamesboard games and tabletop wargames). They also run an online retail store and maintainan active forum community.Q-workshop was established in 2001 by Patryk Strzelewicz – a student from Poznań. Initiallythe company sold its products via online auction services but in 2005 a website and online store wereestablished.\"\r\n"
     ]
    }
   ],
   "source": [
    "!head dbpedia_csv/train.csv -n 3"
   ]
  },
  {
   "cell_type": "code",
   "execution_count": 6,
   "id": "1fa822c6",
   "metadata": {},
   "outputs": [
    {
     "data": {
      "text/html": [
       "<div>\n",
       "<style scoped>\n",
       "    .dataframe tbody tr th:only-of-type {\n",
       "        vertical-align: middle;\n",
       "    }\n",
       "\n",
       "    .dataframe tbody tr th {\n",
       "        vertical-align: top;\n",
       "    }\n",
       "\n",
       "    .dataframe thead th {\n",
       "        text-align: right;\n",
       "    }\n",
       "</style>\n",
       "<table border=\"1\" class=\"dataframe\">\n",
       "  <thead>\n",
       "    <tr style=\"text-align: right;\">\n",
       "      <th></th>\n",
       "      <th>0</th>\n",
       "      <th>1</th>\n",
       "      <th>2</th>\n",
       "    </tr>\n",
       "  </thead>\n",
       "  <tbody>\n",
       "    <tr>\n",
       "      <th>0</th>\n",
       "      <td>1</td>\n",
       "      <td>E. D. Abbott Ltd</td>\n",
       "      <td>Abbott of Farnham E D Abbott Limited was a Br...</td>\n",
       "    </tr>\n",
       "    <tr>\n",
       "      <th>1</th>\n",
       "      <td>1</td>\n",
       "      <td>Schwan-Stabilo</td>\n",
       "      <td>Schwan-STABILO is a German maker of pens for ...</td>\n",
       "    </tr>\n",
       "    <tr>\n",
       "      <th>2</th>\n",
       "      <td>1</td>\n",
       "      <td>Q-workshop</td>\n",
       "      <td>Q-workshop is a Polish company located in Poz...</td>\n",
       "    </tr>\n",
       "    <tr>\n",
       "      <th>3</th>\n",
       "      <td>1</td>\n",
       "      <td>Marvell Software Solutions Israel</td>\n",
       "      <td>Marvell Software Solutions Israel known as RA...</td>\n",
       "    </tr>\n",
       "    <tr>\n",
       "      <th>4</th>\n",
       "      <td>1</td>\n",
       "      <td>Bergan Mercy Medical Center</td>\n",
       "      <td>Bergan Mercy Medical Center is a hospital loc...</td>\n",
       "    </tr>\n",
       "  </tbody>\n",
       "</table>\n",
       "</div>"
      ],
      "text/plain": [
       "   0                                  1  \\\n",
       "0  1                   E. D. Abbott Ltd   \n",
       "1  1                     Schwan-Stabilo   \n",
       "2  1                         Q-workshop   \n",
       "3  1  Marvell Software Solutions Israel   \n",
       "4  1        Bergan Mercy Medical Center   \n",
       "\n",
       "                                                   2  \n",
       "0   Abbott of Farnham E D Abbott Limited was a Br...  \n",
       "1   Schwan-STABILO is a German maker of pens for ...  \n",
       "2   Q-workshop is a Polish company located in Poz...  \n",
       "3   Marvell Software Solutions Israel known as RA...  \n",
       "4   Bergan Mercy Medical Center is a hospital loc...  "
      ]
     },
     "execution_count": 6,
     "metadata": {},
     "output_type": "execute_result"
    }
   ],
   "source": [
    "# check this out as a pandas df\n",
    "import pandas as pd\n",
    "train_df = pd.read_csv('dbpedia_csv/train.csv', header=None)\n",
    "train_df.head(5)"
   ]
  },
  {
   "cell_type": "markdown",
   "id": "f30401c0",
   "metadata": {},
   "source": [
    "#### Print the labels file (classes.txt) to see all possible labels followed by creating an index to label mapping."
   ]
  },
  {
   "cell_type": "code",
   "execution_count": 7,
   "id": "a5f5e1c0",
   "metadata": {},
   "outputs": [
    {
     "name": "stdout",
     "output_type": "stream",
     "text": [
      "Company\r\n",
      "EducationalInstitution\r\n",
      "Artist\r\n",
      "Athlete\r\n",
      "OfficeHolder\r\n",
      "MeanOfTransportation\r\n",
      "Building\r\n",
      "NaturalPlace\r\n",
      "Village\r\n",
      "Animal\r\n",
      "Plant\r\n",
      "Album\r\n",
      "Film\r\n",
      "WrittenWork\r\n"
     ]
    }
   ],
   "source": [
    "!cat dbpedia_csv/classes.txt"
   ]
  },
  {
   "cell_type": "markdown",
   "id": "7d318dfa",
   "metadata": {},
   "source": [
    "#### Creating the mapping from integer indices to class label which will later be used to retrieve the actual class name during inference."
   ]
  },
  {
   "cell_type": "code",
   "execution_count": 8,
   "id": "96ce2bb6",
   "metadata": {},
   "outputs": [
    {
     "name": "stdout",
     "output_type": "stream",
     "text": [
      "{'1': 'Company', '2': 'EducationalInstitution', '3': 'Artist', '4': 'Athlete', '5': 'OfficeHolder', '6': 'MeanOfTransportation', '7': 'Building', '8': 'NaturalPlace', '9': 'Village', '10': 'Animal', '11': 'Plant', '12': 'Album', '13': 'Film', '14': 'WrittenWork'}\n"
     ]
    }
   ],
   "source": [
    "index_to_label = {} \n",
    "with open(\"dbpedia_csv/classes.txt\") as f:\n",
    "    for i,label in enumerate(f.readlines()):\n",
    "        index_to_label[str(i+1)] = label.strip()\n",
    "print(index_to_label)"
   ]
  },
  {
   "cell_type": "code",
   "execution_count": 9,
   "id": "02c4baf1",
   "metadata": {},
   "outputs": [
    {
     "data": {
      "text/plain": [
       "'Company'"
      ]
     },
     "execution_count": 9,
     "metadata": {},
     "output_type": "execute_result"
    }
   ],
   "source": [
    "# note that the keys are strings, not integers.\n",
    "index_to_label['1']"
   ]
  },
  {
   "cell_type": "markdown",
   "id": "82735d88",
   "metadata": {},
   "source": [
    "### Data Preprocessing\n",
    "\n",
    "We need to preprocess the training data into space separated tokenized text format which can be consumed by BlazingText algorithm. Also, as mentioned previously, the class label(s) should be prefixed with __ label __ and it should be present in the same line along with the original sentence. We'll use nltk library to tokenize the input sentences from DBPedia dataset.\n",
    "\n",
    "Download the nltk tokenizer and other libraries"
   ]
  },
  {
   "cell_type": "code",
   "execution_count": 10,
   "id": "5d759908",
   "metadata": {},
   "outputs": [
    {
     "name": "stderr",
     "output_type": "stream",
     "text": [
      "[nltk_data] Downloading package punkt to /home/ec2-user/nltk_data...\n",
      "[nltk_data]   Unzipping tokenizers/punkt.zip.\n"
     ]
    },
    {
     "data": {
      "text/plain": [
       "True"
      ]
     },
     "execution_count": 10,
     "metadata": {},
     "output_type": "execute_result"
    }
   ],
   "source": [
    "from random import shuffle\n",
    "import multiprocessing\n",
    "from multiprocessing import Pool\n",
    "import csv\n",
    "import nltk\n",
    "nltk.download('punkt')"
   ]
  },
  {
   "cell_type": "code",
   "execution_count": 11,
   "id": "17bb47d9",
   "metadata": {},
   "outputs": [],
   "source": [
    "def transform_instance(row):\n",
    "    cur_row = []\n",
    "    label = \"__label__\" + index_to_label[row[0]]  #Prefix the index-ed label with __label__\n",
    "    cur_row.append(label)\n",
    "    cur_row.extend(nltk.word_tokenize(row[1].lower()))\n",
    "    cur_row.extend(nltk.word_tokenize(row[2].lower()))\n",
    "    return cur_row"
   ]
  },
  {
   "cell_type": "code",
   "execution_count": 12,
   "id": "8027df9b",
   "metadata": {},
   "outputs": [
    {
     "data": {
      "text/html": [
       "<div>\n",
       "<style scoped>\n",
       "    .dataframe tbody tr th:only-of-type {\n",
       "        vertical-align: middle;\n",
       "    }\n",
       "\n",
       "    .dataframe tbody tr th {\n",
       "        vertical-align: top;\n",
       "    }\n",
       "\n",
       "    .dataframe thead th {\n",
       "        text-align: right;\n",
       "    }\n",
       "</style>\n",
       "<table border=\"1\" class=\"dataframe\">\n",
       "  <thead>\n",
       "    <tr style=\"text-align: right;\">\n",
       "      <th></th>\n",
       "      <th>0</th>\n",
       "      <th>1</th>\n",
       "      <th>2</th>\n",
       "    </tr>\n",
       "  </thead>\n",
       "  <tbody>\n",
       "    <tr>\n",
       "      <th>0</th>\n",
       "      <td>1</td>\n",
       "      <td>E. D. Abbott Ltd</td>\n",
       "      <td>Abbott of Farnham E D Abbott Limited was a Br...</td>\n",
       "    </tr>\n",
       "    <tr>\n",
       "      <th>1</th>\n",
       "      <td>1</td>\n",
       "      <td>Schwan-Stabilo</td>\n",
       "      <td>Schwan-STABILO is a German maker of pens for ...</td>\n",
       "    </tr>\n",
       "    <tr>\n",
       "      <th>2</th>\n",
       "      <td>1</td>\n",
       "      <td>Q-workshop</td>\n",
       "      <td>Q-workshop is a Polish company located in Poz...</td>\n",
       "    </tr>\n",
       "  </tbody>\n",
       "</table>\n",
       "</div>"
      ],
      "text/plain": [
       "   0                 1                                                  2\n",
       "0  1  E. D. Abbott Ltd   Abbott of Farnham E D Abbott Limited was a Br...\n",
       "1  1    Schwan-Stabilo   Schwan-STABILO is a German maker of pens for ...\n",
       "2  1        Q-workshop   Q-workshop is a Polish company located in Poz..."
      ]
     },
     "execution_count": 12,
     "metadata": {},
     "output_type": "execute_result"
    }
   ],
   "source": [
    "# remember, there are 3 columns in the dataframe.\n",
    "train_df.loc[:2]"
   ]
  },
  {
   "cell_type": "code",
   "execution_count": 13,
   "id": "4699385a",
   "metadata": {},
   "outputs": [
    {
     "data": {
      "text/plain": [
       "array([1, 'E. D. Abbott Ltd',\n",
       "       ' Abbott of Farnham E D Abbott Limited was a British coachbuilding business based in Farnham Surrey trading under that name from 1929. A major part of their output was under sub-contract to motor vehicle manufacturers. Their business closed in 1972.'],\n",
       "      dtype=object)"
      ]
     },
     "execution_count": 13,
     "metadata": {},
     "output_type": "execute_result"
    }
   ],
   "source": [
    "# try applying our function to a few rows, just to see what it can do\n",
    "row = train_df.iloc[0].values\n",
    "row"
   ]
  },
  {
   "cell_type": "code",
   "execution_count": 14,
   "id": "642fd2f6",
   "metadata": {},
   "outputs": [
    {
     "data": {
      "text/plain": [
       "'__label__Company'"
      ]
     },
     "execution_count": 14,
     "metadata": {},
     "output_type": "execute_result"
    }
   ],
   "source": [
    "label = \"__label__\" + index_to_label[str(row[0])]\n",
    "label"
   ]
  },
  {
   "cell_type": "code",
   "execution_count": 15,
   "id": "50f69f7b",
   "metadata": {},
   "outputs": [
    {
     "data": {
      "text/plain": [
       "['e.', 'd.', 'abbott', 'ltd']"
      ]
     },
     "execution_count": 15,
     "metadata": {},
     "output_type": "execute_result"
    }
   ],
   "source": [
    "nltk.word_tokenize(row[1].lower())"
   ]
  },
  {
   "cell_type": "code",
   "execution_count": 16,
   "id": "7dedb715",
   "metadata": {},
   "outputs": [
    {
     "data": {
      "text/plain": [
       "['abbott',\n",
       " 'of',\n",
       " 'farnham',\n",
       " 'e',\n",
       " 'd',\n",
       " 'abbott',\n",
       " 'limited',\n",
       " 'was',\n",
       " 'a',\n",
       " 'british',\n",
       " 'coachbuilding',\n",
       " 'business',\n",
       " 'based',\n",
       " 'in',\n",
       " 'farnham',\n",
       " 'surrey',\n",
       " 'trading',\n",
       " 'under',\n",
       " 'that',\n",
       " 'name',\n",
       " 'from',\n",
       " '1929.',\n",
       " 'a',\n",
       " 'major',\n",
       " 'part',\n",
       " 'of',\n",
       " 'their',\n",
       " 'output',\n",
       " 'was',\n",
       " 'under',\n",
       " 'sub-contract',\n",
       " 'to',\n",
       " 'motor',\n",
       " 'vehicle',\n",
       " 'manufacturers',\n",
       " '.',\n",
       " 'their',\n",
       " 'business',\n",
       " 'closed',\n",
       " 'in',\n",
       " '1972',\n",
       " '.']"
      ]
     },
     "execution_count": 16,
     "metadata": {},
     "output_type": "execute_result"
    }
   ],
   "source": [
    "nltk.word_tokenize(row[2].lower())"
   ]
  },
  {
   "cell_type": "code",
   "execution_count": 18,
   "id": "e9626b57",
   "metadata": {},
   "outputs": [
    {
     "data": {
      "text/plain": [
       "['__label__Company',\n",
       " 'e.',\n",
       " 'd.',\n",
       " 'abbott',\n",
       " 'ltd',\n",
       " 'abbott',\n",
       " 'of',\n",
       " 'farnham',\n",
       " 'e',\n",
       " 'd',\n",
       " 'abbott',\n",
       " 'limited',\n",
       " 'was',\n",
       " 'a',\n",
       " 'british',\n",
       " 'coachbuilding',\n",
       " 'business',\n",
       " 'based',\n",
       " 'in',\n",
       " 'farnham',\n",
       " 'surrey',\n",
       " 'trading',\n",
       " 'under',\n",
       " 'that',\n",
       " 'name',\n",
       " 'from',\n",
       " '1929.',\n",
       " 'a',\n",
       " 'major',\n",
       " 'part',\n",
       " 'of',\n",
       " 'their',\n",
       " 'output',\n",
       " 'was',\n",
       " 'under',\n",
       " 'sub-contract',\n",
       " 'to',\n",
       " 'motor',\n",
       " 'vehicle',\n",
       " 'manufacturers',\n",
       " '.',\n",
       " 'their',\n",
       " 'business',\n",
       " 'closed',\n",
       " 'in',\n",
       " '1972',\n",
       " '.']"
      ]
     },
     "execution_count": 18,
     "metadata": {},
     "output_type": "execute_result"
    }
   ],
   "source": [
    "# put it all together\n",
    "cur_row = []\n",
    "label = \"__label__\" + index_to_label[str(row[0])]  #Prefix the index-ed label with __label__\n",
    "cur_row.append(label)\n",
    "cur_row.extend(nltk.word_tokenize(row[1].lower()))\n",
    "cur_row.extend(nltk.word_tokenize(row[2].lower()))\n",
    "cur_row"
   ]
  },
  {
   "cell_type": "code",
   "execution_count": 20,
   "id": "e6236abb",
   "metadata": {},
   "outputs": [],
   "source": [
    "# let's see if we can build our own tokenizer so we don't have to use NLTK.\n",
    "import re\n",
    "\n",
    "REPLACE_NO_SPACE = re.compile(\"(\\.)|(\\;)|(\\:)|(\\!)|(\\')|(\\?)|(\\,)|(\\\")|(\\()|(\\))|(\\[)|(\\])\")\n",
    "REPLACE_WITH_SPACE = re.compile(\"(<br\\s*/><br\\s*/>)|(\\-)|(\\/)\")\n",
    "\n",
    "def review_to_words(review):\n",
    "    words = REPLACE_NO_SPACE.sub(\"\", review.lower())\n",
    "    words = REPLACE_WITH_SPACE.sub(\" \", words)\n",
    "    return words"
   ]
  },
  {
   "cell_type": "code",
   "execution_count": 21,
   "id": "13bd1d5c",
   "metadata": {},
   "outputs": [
    {
     "name": "stdout",
     "output_type": "stream",
     "text": [
      " Abbott of Farnham E D Abbott Limited was a British coachbuilding business based in Farnham Surrey trading under that name from 1929. A major part of their output was under sub-contract to motor vehicle manufacturers. Their business closed in 1972.\n"
     ]
    },
    {
     "data": {
      "text/plain": [
       "' abbott of farnham e d abbott limited was a british coachbuilding business based in farnham surrey trading under that name from 1929 a major part of their output was under sub contract to motor vehicle manufacturers their business closed in 1972'"
      ]
     },
     "execution_count": 21,
     "metadata": {},
     "output_type": "execute_result"
    }
   ],
   "source": [
    "print(row[2])\n",
    "review_to_words(row[2])"
   ]
  },
  {
   "cell_type": "markdown",
   "id": "26cf0f28",
   "metadata": {},
   "source": [
    "#### The transform_instance will be applied to each data instance in parallel using python's multiprocessing module"
   ]
  },
  {
   "cell_type": "code",
   "execution_count": 22,
   "id": "80f5db38",
   "metadata": {},
   "outputs": [],
   "source": [
    "def preprocess(input_file, output_file, keep=1):\n",
    "    all_rows = []\n",
    "    with open(input_file, 'r') as csvinfile:\n",
    "        csv_reader = csv.reader(csvinfile, delimiter=',')\n",
    "        for row in csv_reader:\n",
    "            all_rows.append(row)\n",
    "    shuffle(all_rows)\n",
    "    all_rows = all_rows[:int(keep*len(all_rows))]\n",
    "    pool = Pool(processes=multiprocessing.cpu_count())\n",
    "    transformed_rows = pool.map(transform_instance, all_rows)\n",
    "    pool.close() \n",
    "    pool.join()\n",
    "    # blazing text requires space-separated word tokens.\n",
    "    with open(output_file, 'w') as csvoutfile:\n",
    "        csv_writer = csv.writer(csvoutfile, delimiter=' ', lineterminator='\\n') # notice the delimiter.\n",
    "        csv_writer.writerows(transformed_rows)"
   ]
  },
  {
   "cell_type": "code",
   "execution_count": 23,
   "id": "9ded947a",
   "metadata": {},
   "outputs": [
    {
     "name": "stdout",
     "output_type": "stream",
     "text": [
      "CPU times: user 8.57 s, sys: 1.08 s, total: 9.65 s\n",
      "Wall time: 1min 22s\n"
     ]
    }
   ],
   "source": [
    "%%time\n",
    "\n",
    "# Preparing the training dataset\n",
    "\n",
    "# Since preprocessing the whole dataset might take a couple of mintutes,\n",
    "# we keep 20% of the training dataset for this demo.\n",
    "# Set keep to 1 if you want to use the complete dataset\n",
    "preprocess('dbpedia_csv/train.csv', 'dbpedia.train', keep=.2)\n",
    "        \n",
    "# Preparing the validation dataset        \n",
    "preprocess('dbpedia_csv/test.csv', 'dbpedia.validation')"
   ]
  },
  {
   "cell_type": "markdown",
   "id": "d23a7b68",
   "metadata": {},
   "source": [
    "#### Need to upload it to S3 so that it can be consumed by SageMaker to execute training jobs. Using Python SDK to upload these two files to the bucket and prefix location that we have set above."
   ]
  },
  {
   "cell_type": "code",
   "execution_count": 24,
   "id": "1c821b01",
   "metadata": {},
   "outputs": [
    {
     "name": "stdout",
     "output_type": "stream",
     "text": [
      "CPU times: user 408 ms, sys: 181 ms, total: 589 ms\n",
      "Wall time: 1.02 s\n"
     ]
    }
   ],
   "source": [
    "%%time\n",
    "\n",
    "train_channel = prefix + '/train'\n",
    "validation_channel = prefix + '/validation'\n",
    "\n",
    "sess.upload_data(path='dbpedia.train', bucket=bucket, key_prefix=train_channel)\n",
    "sess.upload_data(path='dbpedia.validation', bucket=bucket, key_prefix=validation_channel)\n",
    "\n",
    "s3_train_data = 's3://{}/{}'.format(bucket, train_channel)\n",
    "s3_validation_data = 's3://{}/{}'.format(bucket, validation_channel)"
   ]
  },
  {
   "cell_type": "markdown",
   "id": "052adb81",
   "metadata": {},
   "source": [
    "#### Now need to setup an output location at S3, where the model artifact will be dumped. These artifacts are also the output of the algorithm's traning job."
   ]
  },
  {
   "cell_type": "code",
   "execution_count": 25,
   "id": "0f479164",
   "metadata": {},
   "outputs": [
    {
     "data": {
      "text/plain": [
       "'s3://sagemaker-us-east-1-905418175678/blazingtext/supervised/output'"
      ]
     },
     "execution_count": 25,
     "metadata": {},
     "output_type": "execute_result"
    }
   ],
   "source": [
    "s3_output_location = 's3://{}/{}/output'.format(bucket, prefix)\n",
    "s3_output_location"
   ]
  },
  {
   "cell_type": "markdown",
   "id": "b0c05e49",
   "metadata": {},
   "source": [
    "### Training\n",
    "\n",
    "Now that we are done with all the setup that is needed, we are ready to train our object detector. To begin, let us create a `sageMaker.estimator.Estimator` object. This estimator will launch the training job."
   ]
  },
  {
   "cell_type": "code",
   "execution_count": 26,
   "id": "a90e55bc",
   "metadata": {},
   "outputs": [
    {
     "name": "stdout",
     "output_type": "stream",
     "text": [
      "us-east-1\n"
     ]
    }
   ],
   "source": [
    "region_name = boto3.Session().region_name\n",
    "print(region_name)"
   ]
  },
  {
   "cell_type": "code",
   "execution_count": 27,
   "id": "628f3693",
   "metadata": {},
   "outputs": [
    {
     "name": "stderr",
     "output_type": "stream",
     "text": [
      "The method get_image_uri has been renamed in sagemaker>=2.\n",
      "See: https://sagemaker.readthedocs.io/en/stable/v2.html for details.\n",
      "Defaulting to the only supported framework/algorithm version: 1. Ignoring framework/algorithm version: latest.\n"
     ]
    },
    {
     "name": "stdout",
     "output_type": "stream",
     "text": [
      "Using SageMaker BlazingText container: 811284229777.dkr.ecr.us-east-1.amazonaws.com/blazingtext:1 (us-east-1)\n"
     ]
    }
   ],
   "source": [
    "container = sagemaker.amazon.amazon_estimator.get_image_uri(region_name, \"blazingtext\", \"latest\")\n",
    "print('Using SageMaker BlazingText container: {} ({})'.format(container, region_name))"
   ]
  },
  {
   "cell_type": "markdown",
   "id": "2fe17927",
   "metadata": {},
   "source": [
    "### Training the BlazingText model for supervised text classification"
   ]
  },
  {
   "cell_type": "markdown",
   "id": "866904b6",
   "metadata": {},
   "source": [
    "\n",
    "Similar to the original implementation of [Word2Vec](https://arxiv.org/pdf/1301.3781), SageMaker BlazingText provides an efficient implementation of the continuous bag-of-words (CBOW) and skip-gram architectures using Negative Sampling, on CPUs and additionally on GPU[s]. The GPU implementation uses highly optimized CUDA kernels. [Scaling and Accelerating Word2Vec using Multiple GPUs](https://dl.acm.org/doi/10.1145/3146347.3146354).\n",
    "\n",
    "BlazingText also supports a supervised mode for text classification. It extends the FastText text classifier to leverage GPU acceleration using custom CUDA kernels. The model can be trained on more than a billion words in a couple of minutes using a multi-core CPU or a GPU, while achieving performance on par with the state-of-the-art deep learning text classification algorithms. [Algorithm documentation](https://docs.aws.amazon.com/sagemaker/latest/dg/blazingtext.html)."
   ]
  },
  {
   "cell_type": "markdown",
   "id": "f24b3cf9",
   "metadata": {},
   "source": [
    "Let's define the SageMaker `Estimator` with resource configurations and hyperparameters to train Text Classification on DBPedia dataset, using \"supervised\" mode on a `ml.t2.medium` instance."
   ]
  },
  {
   "cell_type": "code",
   "execution_count": 36,
   "id": "28e954c1",
   "metadata": {},
   "outputs": [
    {
     "name": "stderr",
     "output_type": "stream",
     "text": [
      "WARNING:sagemaker.deprecations:train_instance_count has been renamed in sagemaker>=2.\n",
      "See: https://sagemaker.readthedocs.io/en/stable/v2.html for details.\n",
      "WARNING:sagemaker.deprecations:train_instance_type has been renamed in sagemaker>=2.\n",
      "See: https://sagemaker.readthedocs.io/en/stable/v2.html for details.\n",
      "WARNING:sagemaker.deprecations:train_max_run has been renamed in sagemaker>=2.\n",
      "See: https://sagemaker.readthedocs.io/en/stable/v2.html for details.\n",
      "WARNING:sagemaker.deprecations:train_volume_size has been renamed in sagemaker>=2.\n",
      "See: https://sagemaker.readthedocs.io/en/stable/v2.html for details.\n"
     ]
    }
   ],
   "source": [
    "bt_model = sagemaker.estimator.Estimator(container,\n",
    "                                         role, \n",
    "                                         train_instance_count=1, \n",
    "                                         train_instance_type='ml.m4.4xlarge',\n",
    "                                         train_volume_size = 30,\n",
    "                                         train_max_run = 360000,\n",
    "                                         input_mode= 'File',\n",
    "                                         output_path=s3_output_location,\n",
    "                                         sagemaker_session=sess)"
   ]
  },
  {
   "cell_type": "markdown",
   "id": "68c6f792",
   "metadata": {},
   "source": []
  },
  {
   "cell_type": "code",
   "execution_count": 37,
   "id": "6d29cfe1",
   "metadata": {},
   "outputs": [],
   "source": [
    "bt_model.set_hyperparameters(mode=\"supervised\",\n",
    "                            epochs=10,\n",
    "                            min_count=2,\n",
    "                            learning_rate=0.05,\n",
    "                            vector_dim=10,\n",
    "                            early_stopping=True,\n",
    "                            patience=4,\n",
    "                            min_epochs=5,\n",
    "                            word_ngrams=2)"
   ]
  },
  {
   "cell_type": "markdown",
   "id": "66708486",
   "metadata": {},
   "source": [
    "#### The hyper-parameters are setup, let us prepare the handshake between our data channels and the algorithm. To do this, we need to create the sagemaker.session.s3_input objects from our data channels. These objects are then put in a simple dictionary, which the algorithm consumes."
   ]
  },
  {
   "cell_type": "code",
   "execution_count": 38,
   "id": "8e082234",
   "metadata": {},
   "outputs": [
    {
     "name": "stderr",
     "output_type": "stream",
     "text": [
      "WARNING:sagemaker.deprecations:The class sagemaker.session.s3_input has been renamed in sagemaker>=2.\n",
      "See: https://sagemaker.readthedocs.io/en/stable/v2.html for details.\n",
      "WARNING:sagemaker.deprecations:The class sagemaker.session.s3_input has been renamed in sagemaker>=2.\n",
      "See: https://sagemaker.readthedocs.io/en/stable/v2.html for details.\n"
     ]
    }
   ],
   "source": [
    "train_data = sagemaker.session.s3_input(s3_train_data, distribution='FullyReplicated', \n",
    "                        content_type='text/plain', s3_data_type='S3Prefix')\n",
    "validation_data = sagemaker.session.s3_input(s3_validation_data, distribution='FullyReplicated', \n",
    "                             content_type='text/plain', s3_data_type='S3Prefix')\n",
    "data_channels = {'train': train_data, 'validation': validation_data}"
   ]
  },
  {
   "cell_type": "markdown",
   "id": "e25f624d",
   "metadata": {},
   "source": [
    "The `Estimator` object, we have set the hyper-parameters for this object and we have our data channels linked with the algorithm. The only remaining thing to do is to train the algorithm. The following command will train the algorithm. Training the algorithm involves a few steps. Firstly, the instance that we requested while creating the `Estimator` classes is provisioned and is setup with the appropriate libraries. Then, the data from our channels are downloaded into the instance. Once this is done, the training job begins. The provisioning and data downloading will take some time, depending on the size of the data. Therefore it might be a few minutes before we start getting training logs for our training jobs. The data logs will also print out Accuracy on the validation data for every epoch after training job has executed `min_epochs`. This metric is a proxy for the quality of the algorithm."
   ]
  },
  {
   "cell_type": "code",
   "execution_count": 39,
   "id": "34bd0688",
   "metadata": {},
   "outputs": [
    {
     "name": "stderr",
     "output_type": "stream",
     "text": [
      "INFO:sagemaker:Creating training-job with name: blazingtext-2024-05-01-19-16-47-113\n"
     ]
    },
    {
     "name": "stdout",
     "output_type": "stream",
     "text": [
      "2024-05-01 19:16:47 Starting - Starting the training job...\n",
      "2024-05-01 19:17:02 Starting - Preparing the instances for training...\n",
      "2024-05-01 19:17:45 Downloading - Downloading input data...\n",
      "2024-05-01 19:18:10 Training - Training image download completed. Training in progress...\u001b[34mArguments: train\u001b[0m\n",
      "\u001b[34m[05/01/2024 19:18:26 WARNING 140176013698880] Loggers have already been setup.\u001b[0m\n",
      "\u001b[34m[05/01/2024 19:18:26 WARNING 140176013698880] Loggers have already been setup.\u001b[0m\n",
      "\u001b[34m/opt/amazon/python3.8/lib/python3.8/subprocess.py:848: RuntimeWarning: line buffering (buffering=1) isn't supported in binary mode, the default buffer size will be used\n",
      "  self.stdout = io.open(c2pread, 'rb', bufsize)\u001b[0m\n",
      "\u001b[34m[05/01/2024 19:18:26 INFO 140176013698880] nvidia-smi took: 0.025201797485351562 secs to identify 0 gpus\u001b[0m\n",
      "\u001b[34m[05/01/2024 19:18:26 INFO 140176013698880] Running single machine CPU BlazingText training using supervised mode.\u001b[0m\n",
      "\u001b[34mNumber of CPU sockets found in instance is  1\u001b[0m\n",
      "\u001b[34m[05/01/2024 19:18:26 INFO 140176013698880] Processing /opt/ml/input/data/train/dbpedia.train . File size: 35.01828479766846 MB\u001b[0m\n",
      "\u001b[34m[05/01/2024 19:18:26 INFO 140176013698880] Processing /opt/ml/input/data/validation/dbpedia.validation . File size: 21.887577056884766 MB\u001b[0m\n",
      "\u001b[34mRead 6M words\u001b[0m\n",
      "\u001b[34mNumber of words:  148799\u001b[0m\n",
      "\u001b[34mLoading validation data from /opt/ml/input/data/validation/dbpedia.validation\u001b[0m\n",
      "\u001b[34mLoaded validation data.\u001b[0m\n",
      "\u001b[34m-------------- End of epoch: 7\u001b[0m\n",
      "\u001b[34mUsing 16 threads for prediction!\u001b[0m\n",
      "\u001b[34mValidation accuracy: 0.971871\u001b[0m\n",
      "\u001b[34mValidation accuracy improved! Storing best weights...\u001b[0m\n",
      "\u001b[34m##### Alpha: 0.0129  Progress: 74.26%  Million Words/sec: 26.03 #####\u001b[0m\n",
      "\u001b[34m##### Alpha: 0.0079  Progress: 84.16%  Million Words/sec: 26.51 #####\u001b[0m\n",
      "\u001b[34m-------------- End of epoch: 8\u001b[0m\n",
      "\u001b[34mUsing 16 threads for prediction!\u001b[0m\n",
      "\u001b[34mValidation accuracy: 0.9726\u001b[0m\n",
      "\u001b[34mValidation accuracy improved! Storing best weights...\u001b[0m\n",
      "\u001b[34m##### Alpha: 0.0050  Progress: 89.95%  Million Words/sec: 24.28 #####\u001b[0m\n",
      "\u001b[34m-------------- End of epoch: 9\u001b[0m\n",
      "\u001b[34mUsing 16 threads for prediction!\u001b[0m\n",
      "\u001b[34mValidation accuracy: 0.972929\u001b[0m\n",
      "\u001b[34mValidation accuracy improved! Storing best weights...\u001b[0m\n",
      "\u001b[34m##### Alpha: 0.0022  Progress: 95.66%  Million Words/sec: 22.59 #####\u001b[0m\n",
      "\u001b[34m-------------- End of epoch: 10\u001b[0m\n",
      "\u001b[34mUsing 16 threads for prediction!\u001b[0m\n",
      "\u001b[34mValidation accuracy: 0.972971\u001b[0m\n",
      "\u001b[34mValidation accuracy improved! Storing best weights...\u001b[0m\n",
      "\u001b[34m##### Alpha: 0.0000  Progress: 100.00%  Million Words/sec: 21.50 #####\u001b[0m\n",
      "\u001b[34mTraining finished.\u001b[0m\n",
      "\u001b[34mAverage throughput in Million words/sec: 21.50\u001b[0m\n",
      "\u001b[34mTotal training time in seconds: 2.89\u001b[0m\n",
      "\u001b[34m#train_accuracy: 0.9865\u001b[0m\n",
      "\u001b[34mNumber of train examples: 112000\u001b[0m\n",
      "\u001b[34m#validation_accuracy: 0.973\u001b[0m\n",
      "\u001b[34mNumber of validation examples: 70000\u001b[0m\n",
      "\n",
      "2024-05-01 19:18:41 Uploading - Uploading generated training model\n",
      "2024-05-01 19:18:57 Completed - Training job completed\n",
      "Training seconds: 71\n",
      "Billable seconds: 71\n"
     ]
    }
   ],
   "source": [
    "bt_model.fit(inputs=data_channels, logs=True)"
   ]
  },
  {
   "cell_type": "markdown",
   "id": "925e41d2",
   "metadata": {},
   "source": [
    "#### Hosting / Inference using Serverless Endpoint"
   ]
  },
  {
   "cell_type": "markdown",
   "id": "f3c4cf9d",
   "metadata": {},
   "source": [
    "https://sagemaker.readthedocs.io/en/stable/overview.html#sagemaker-serverless-inference"
   ]
  },
  {
   "cell_type": "code",
   "execution_count": 67,
   "id": "2457de44",
   "metadata": {},
   "outputs": [],
   "source": [
    "from sagemaker.serverless import ServerlessInferenceConfig\n",
    "\n",
    "# Create an empty ServerlessInferenceConfig object to use default values\n",
    "serverless_config = ServerlessInferenceConfig()"
   ]
  },
  {
   "cell_type": "markdown",
   "id": "3fb35bd9",
   "metadata": {},
   "source": [
    "#### The ServerlessInferenceConfig in the estimator’s deploy() method to deploy a serverless endpoint:"
   ]
  },
  {
   "cell_type": "code",
   "execution_count": 68,
   "id": "2c6844a1",
   "metadata": {},
   "outputs": [
    {
     "name": "stderr",
     "output_type": "stream",
     "text": [
      "INFO:sagemaker:Creating model with name: blazingtext-2024-05-01-20-23-38-097\n",
      "INFO:sagemaker:Creating endpoint-config with name blazingtext-2024-05-01-20-23-38-097\n",
      "INFO:sagemaker:Creating endpoint with name blazingtext-2024-05-01-20-23-38-097\n"
     ]
    },
    {
     "name": "stdout",
     "output_type": "stream",
     "text": [
      "---!"
     ]
    }
   ],
   "source": [
    "# Deploys the model that was generated by fit() to a SageMaker serverless endpoint\n",
    "text_classifier = bt_model.deploy(serverless_inference_config=serverless_config)\n",
    "\n",
    "\n",
    "# text_classifier = bt_model.deploy(initial_instance_count = 1,\n",
    "#                                   instance_type = 'ml.t2.medium')\n"
   ]
  },
  {
   "cell_type": "code",
   "execution_count": 69,
   "id": "33a943c6",
   "metadata": {},
   "outputs": [
    {
     "name": "stderr",
     "output_type": "stream",
     "text": [
      "WARNING:sagemaker.deprecations:The endpoint attribute has been renamed in sagemaker>=2.\n",
      "See: https://sagemaker.readthedocs.io/en/stable/v2.html for details.\n"
     ]
    },
    {
     "name": "stdout",
     "output_type": "stream",
     "text": [
      "blazingtext-2024-05-01-20-23-38-097\n"
     ]
    }
   ],
   "source": [
    "print(text_classifier.endpoint)"
   ]
  },
  {
   "cell_type": "markdown",
   "id": "48532d9f",
   "metadata": {},
   "source": [
    "#### Use JSON format for inference\n",
    "\n",
    "BlazingText supports `application/json` as the content-type for inference. The payload should contain a list of sentences with the key as \"instances\" while being passed to the endpoint."
   ]
  },
  {
   "cell_type": "code",
   "execution_count": 42,
   "id": "06cc8b48",
   "metadata": {},
   "outputs": [
    {
     "data": {
      "text/plain": [
       "['Convair was an american aircraft manufacturing company which later expanded into rockets and spacecraft .',\n",
       " 'Berwick secondary college is situated in the outer melbourne metropolitan suburb of berwick .']"
      ]
     },
     "execution_count": 42,
     "metadata": {},
     "output_type": "execute_result"
    }
   ],
   "source": [
    "sentences = [\"Convair was an american aircraft manufacturing company which later expanded into rockets and spacecraft.\",\n",
    "            \"Berwick secondary college is situated in the outer melbourne metropolitan suburb of berwick .\"]\n",
    "\n",
    "# using the same nltk tokenizer that we used during data preparation for training\n",
    "tokenized_sentences = [' '.join(nltk.word_tokenize(sent)) for sent in sentences]\n",
    "tokenized_sentences"
   ]
  },
  {
   "cell_type": "code",
   "execution_count": 43,
   "id": "206952f6",
   "metadata": {},
   "outputs": [
    {
     "data": {
      "text/plain": [
       "{'instances': ['Convair was an american aircraft manufacturing company which later expanded into rockets and spacecraft .',\n",
       "  'Berwick secondary college is situated in the outer melbourne metropolitan suburb of berwick .']}"
      ]
     },
     "execution_count": 43,
     "metadata": {},
     "output_type": "execute_result"
    }
   ],
   "source": [
    "payload = {\"instances\" : tokenized_sentences}\n",
    "payload"
   ]
  },
  {
   "cell_type": "code",
   "execution_count": 44,
   "id": "d6636305",
   "metadata": {},
   "outputs": [
    {
     "data": {
      "text/plain": [
       "'{\"instances\": [\"Convair was an american aircraft manufacturing company which later expanded into rockets and spacecraft .\", \"Berwick secondary college is situated in the outer melbourne metropolitan suburb of berwick .\"]}'"
      ]
     },
     "execution_count": 44,
     "metadata": {},
     "output_type": "execute_result"
    }
   ],
   "source": [
    "json.dumps(payload)"
   ]
  },
  {
   "cell_type": "code",
   "execution_count": 45,
   "id": "3527d50f",
   "metadata": {},
   "outputs": [
    {
     "data": {
      "text/plain": [
       "b'[{\"label\": [\"__label__Company\"], \"prob\": [0.9987420439720154]}, {\"label\": [\"__label__EducationalInstitution\"], \"prob\": [0.9937962293624878]}]'"
      ]
     },
     "execution_count": 45,
     "metadata": {},
     "output_type": "execute_result"
    }
   ],
   "source": [
    "response = text_classifier.predict(json.dumps(payload), initial_args={'ContentType': 'application/json'})\n",
    "response"
   ]
  },
  {
   "cell_type": "code",
   "execution_count": 46,
   "id": "9987dc8b",
   "metadata": {},
   "outputs": [
    {
     "name": "stdout",
     "output_type": "stream",
     "text": [
      "[\n",
      "  {\n",
      "    \"label\": [\n",
      "      \"__label__Company\"\n",
      "    ],\n",
      "    \"prob\": [\n",
      "      0.9987420439720154\n",
      "    ]\n",
      "  },\n",
      "  {\n",
      "    \"label\": [\n",
      "      \"__label__EducationalInstitution\"\n",
      "    ],\n",
      "    \"prob\": [\n",
      "      0.9937962293624878\n",
      "    ]\n",
      "  }\n",
      "]\n"
     ]
    }
   ],
   "source": [
    "predictions = json.loads(response)\n",
    "print(json.dumps(predictions, indent=2))"
   ]
  },
  {
   "cell_type": "markdown",
   "id": "4acb81f1",
   "metadata": {},
   "source": [
    "By default, the model will return only one prediction, the one with the highest probability. For retrieving the top k predictions, you can set k in the configuration as shown below:"
   ]
  },
  {
   "cell_type": "code",
   "execution_count": 47,
   "id": "87fc9bf7",
   "metadata": {},
   "outputs": [
    {
     "name": "stdout",
     "output_type": "stream",
     "text": [
      "[\n",
      "  {\n",
      "    \"label\": [\n",
      "      \"__label__Company\",\n",
      "      \"__label__MeanOfTransportation\"\n",
      "    ],\n",
      "    \"prob\": [\n",
      "      0.9987420439720154,\n",
      "      0.001049356535077095\n",
      "    ]\n",
      "  },\n",
      "  {\n",
      "    \"label\": [\n",
      "      \"__label__EducationalInstitution\",\n",
      "      \"__label__Village\"\n",
      "    ],\n",
      "    \"prob\": [\n",
      "      0.9937962293624878,\n",
      "      0.00393278943374753\n",
      "    ]\n",
      "  }\n",
      "]\n"
     ]
    }
   ],
   "source": [
    "payload = {\"instances\" : tokenized_sentences,\n",
    "          \"configuration\": {\"k\": 2}}\n",
    "\n",
    "response = text_classifier.predict(json.dumps(payload), initial_args={'ContentType': 'application/json'})\n",
    "\n",
    "predictions = json.loads(response)\n",
    "print(json.dumps(predictions, indent=2))"
   ]
  },
  {
   "cell_type": "markdown",
   "id": "01304db3",
   "metadata": {},
   "source": [
    "#### Lambda Function"
   ]
  },
  {
   "cell_type": "code",
   "execution_count": null,
   "id": "ce00f5c7",
   "metadata": {},
   "outputs": [],
   "source": []
  },
  {
   "cell_type": "code",
   "execution_count": 65,
   "id": "8c9f7499",
   "metadata": {},
   "outputs": [
    {
     "name": "stderr",
     "output_type": "stream",
     "text": [
      "INFO:botocore.credentials:Found credentials from IAM Role: BaseNotebookInstanceEc2InstanceRole\n"
     ]
    },
    {
     "name": "stdout",
     "output_type": "stream",
     "text": [
      "<botocore.client.SageMakerRuntime object at 0x7f55cc830580>\n"
     ]
    }
   ],
   "source": [
    "import boto3\n",
    "runtime = boto3.Session().client('sagemaker-runtime')\n",
    "print(runtime)"
   ]
  },
  {
   "cell_type": "code",
   "execution_count": 66,
   "id": "96b34174",
   "metadata": {},
   "outputs": [
    {
     "name": "stderr",
     "output_type": "stream",
     "text": [
      "WARNING:sagemaker.deprecations:The endpoint attribute has been renamed in sagemaker>=2.\n",
      "See: https://sagemaker.readthedocs.io/en/stable/v2.html for details.\n"
     ]
    },
    {
     "name": "stdout",
     "output_type": "stream",
     "text": [
      "blazingtext-2024-05-01-19-24-59-504\n"
     ]
    }
   ],
   "source": [
    "print(text_classifier.endpoint)"
   ]
  },
  {
   "cell_type": "markdown",
   "id": "7f844ed7",
   "metadata": {},
   "source": [
    "#### The SageMaker runtime and the name of our endpoint, we can invoke the endpoint and send it the test data."
   ]
  },
  {
   "cell_type": "code",
   "execution_count": 58,
   "id": "eb5b30ce",
   "metadata": {},
   "outputs": [
    {
     "data": {
      "text/plain": [
       "[\"The Empire State Building is a 102-story [ c ] Art Deco skyscraper in Midtown Manhattan in New York City . It was designed by Shreve , Lamb & Harmon and built from 1930 to 1931 . Its name is derived from Empire State , the nickname of the state of New York . The building has a roof height of 1,250 feet ( 380 m ) and stands a total of 1,454 feet ( 443.2 m ) tall , including its antenna . The Empire State Building stood as the world 's tallest building until the construction of the World Trade Center in 1970 ; following its collapse in the September 11 , 2001 attacks , the Empire State Building was again the city 's tallest skyscraper until 2012 . As of 2020 , the building is the seventh-tallest building in New York City , the ninth-tallest completed skyscraper in the United States , the 48th-tallest in the world , and the fifth-tallest freestanding structure in the Americas .\"]"
      ]
     },
     "execution_count": 58,
     "metadata": {},
     "output_type": "execute_result"
    }
   ],
   "source": [
    "sentences = [\"The Empire State Building is a 102-story[c] Art Deco skyscraper in Midtown Manhattan in New York City. It was designed by Shreve, Lamb & Harmon and built from 1930 to 1931. Its name is derived from Empire State, the nickname of the state of New York. The building has a roof height of 1,250 feet (380 m) and stands a total of 1,454 feet (443.2 m) tall, including its antenna. The Empire State Building stood as the world's tallest building until the construction of the World Trade Center in 1970; following its collapse in the September 11, 2001 attacks, the Empire State Building was again the city's tallest skyscraper until 2012. As of 2020, the building is the seventh-tallest building in New York City, the ninth-tallest completed skyscraper in the United States, the 48th-tallest in the world, and the fifth-tallest freestanding structure in the Americas.\"]\n",
    "\n",
    "# using the same nltk tokenizer that we used during data preparation for training\n",
    "tokenized_sentences = [' '.join(nltk.word_tokenize(sent)) for sent in sentences]\n",
    "tokenized_sentences"
   ]
  },
  {
   "cell_type": "code",
   "execution_count": 59,
   "id": "5e43aa5c",
   "metadata": {},
   "outputs": [
    {
     "name": "stdout",
     "output_type": "stream",
     "text": [
      "{\"instances\": [\"The Empire State Building is a 102-story [ c ] Art Deco skyscraper in Midtown Manhattan in New York City . It was designed by Shreve , Lamb & Harmon and built from 1930 to 1931 . Its name is derived from Empire State , the nickname of the state of New York . The building has a roof height of 1,250 feet ( 380 m ) and stands a total of 1,454 feet ( 443.2 m ) tall , including its antenna . The Empire State Building stood as the world 's tallest building until the construction of the World Trade Center in 1970 ; following its collapse in the September 11 , 2001 attacks , the Empire State Building was again the city 's tallest skyscraper until 2012 . As of 2020 , the building is the seventh-tallest building in New York City , the ninth-tallest completed skyscraper in the United States , the 48th-tallest in the world , and the fifth-tallest freestanding structure in the Americas .\"]}\n"
     ]
    }
   ],
   "source": [
    "payload = {\"instances\" : tokenized_sentences}\n",
    "print(json.dumps(payload))\n",
    "\n",
    "# response = text_classifier.predict(json.dumps(payload))"
   ]
  },
  {
   "cell_type": "code",
   "execution_count": 60,
   "id": "ca6dc92d",
   "metadata": {},
   "outputs": [
    {
     "name": "stderr",
     "output_type": "stream",
     "text": [
      "WARNING:sagemaker.deprecations:The endpoint attribute has been renamed in sagemaker>=2.\n",
      "See: https://sagemaker.readthedocs.io/en/stable/v2.html for details.\n"
     ]
    }
   ],
   "source": [
    "response = runtime.invoke_endpoint(EndpointName = text_classifier.endpoint, # The name of the endpoint we created\n",
    "                                       ContentType = 'application/json', # The data format that is expected\n",
    "                                       Body = json.dumps(payload))"
   ]
  },
  {
   "cell_type": "code",
   "execution_count": 61,
   "id": "f713654a",
   "metadata": {},
   "outputs": [
    {
     "data": {
      "text/plain": [
       "{'ResponseMetadata': {'RequestId': 'c3e88ce6-1394-4e39-93aa-9f3a2fe6725a',\n",
       "  'HTTPStatusCode': 200,\n",
       "  'HTTPHeaders': {'x-amzn-requestid': 'c3e88ce6-1394-4e39-93aa-9f3a2fe6725a',\n",
       "   'x-amzn-invoked-production-variant': 'AllTraffic',\n",
       "   'date': 'Wed, 01 May 2024 20:16:49 GMT',\n",
       "   'content-type': 'application/json',\n",
       "   'content-length': '64',\n",
       "   'connection': 'keep-alive'},\n",
       "  'RetryAttempts': 0},\n",
       " 'ContentType': 'application/json',\n",
       " 'InvokedProductionVariant': 'AllTraffic',\n",
       " 'Body': <botocore.response.StreamingBody at 0x7f55c7a7ad10>}"
      ]
     },
     "execution_count": 61,
     "metadata": {},
     "output_type": "execute_result"
    }
   ],
   "source": [
    "response"
   ]
  },
  {
   "cell_type": "code",
   "execution_count": 62,
   "id": "2c2d8a3d",
   "metadata": {},
   "outputs": [
    {
     "data": {
      "text/plain": [
       "0.9408228397369385"
      ]
     },
     "execution_count": 62,
     "metadata": {},
     "output_type": "execute_result"
    }
   ],
   "source": [
    "output = json.loads(response['Body'].read().decode('utf-8'))\n",
    "output[0]['prob'][0]"
   ]
  },
  {
   "cell_type": "code",
   "execution_count": 63,
   "id": "8da4f88e",
   "metadata": {},
   "outputs": [
    {
     "data": {
      "text/plain": [
       "'Building'"
      ]
     },
     "execution_count": 63,
     "metadata": {},
     "output_type": "execute_result"
    }
   ],
   "source": [
    "output[0]['label'][0].split('__label__')[1]"
   ]
  },
  {
   "cell_type": "code",
   "execution_count": null,
   "id": "7543c631",
   "metadata": {},
   "outputs": [],
   "source": []
  },
  {
   "cell_type": "markdown",
   "id": "de4828c7",
   "metadata": {},
   "source": [
    "#### Stop / Close the Endpoint (Optional)\n",
    "\n",
    "Finally, we should delete the endpoint before we close the notebook if we don't need to keep the endpoint running for serving realtime predictions."
   ]
  },
  {
   "cell_type": "code",
   "execution_count": 64,
   "id": "393b3f1b",
   "metadata": {},
   "outputs": [],
   "source": [
    "# sess.delete_endpoint(text_classifier.endpoint)"
   ]
  },
  {
   "cell_type": "code",
   "execution_count": null,
   "id": "dc2b9a8d",
   "metadata": {},
   "outputs": [],
   "source": []
  },
  {
   "cell_type": "code",
   "execution_count": null,
   "id": "28091c00",
   "metadata": {},
   "outputs": [],
   "source": []
  },
  {
   "cell_type": "code",
   "execution_count": null,
   "id": "623569c2",
   "metadata": {},
   "outputs": [],
   "source": []
  },
  {
   "cell_type": "code",
   "execution_count": null,
   "id": "1eeabf0a",
   "metadata": {},
   "outputs": [],
   "source": []
  }
 ],
 "metadata": {
  "kernelspec": {
   "display_name": "conda_python3",
   "language": "python",
   "name": "conda_python3"
  },
  "language_info": {
   "codemirror_mode": {
    "name": "ipython",
    "version": 3
   },
   "file_extension": ".py",
   "mimetype": "text/x-python",
   "name": "python",
   "nbconvert_exporter": "python",
   "pygments_lexer": "ipython3",
   "version": "3.10.14"
  }
 },
 "nbformat": 4,
 "nbformat_minor": 5
}
